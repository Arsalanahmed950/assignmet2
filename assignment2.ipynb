{
 "cells": [
  {
   "cell_type": "code",
   "execution_count": 2,
   "metadata": {},
   "outputs": [
    {
     "name": "stdout",
     "output_type": "stream",
     "text": [
      "Enter marks of maths: 99\n",
      "Enter marks of physics: 22\n",
      "Enter marks of chemistry: 23\n",
      "Enter marks of english: 31\n",
      "Enter marks of urdu: 50\n",
      "\n",
      "You have failed the semester !\n"
     ]
    }
   ],
   "source": [
    "sub1 = int(input(\"Enter marks of maths: \"))\n",
    "sub2 = int(input(\"Enter marks of physics: \"))\n",
    "sub3 = int(input(\"Enter marks of chemistry: \"))\n",
    "sub4 = int(input(\"Enter marks of english: \"))\n",
    "sub5 = int(input(\"Enter marks of urdu: \"))\n",
    "\n",
    "if (sub1 or sub2 or sub3 or sub4 or sub5) > 100:\n",
    "    print(\"Error in entering marks !\")\n",
    "else:\n",
    "    total_Marks = sub1 + sub2 + sub3 + sub4 + sub5\n",
    "    Grade = (total_Marks/500)*100\n",
    "\n",
    "    # applying grading conditions through if else statements\n",
    "    if 80 <= Grade < 100:\n",
    "        print(\"\\nYou have achieved A grade !\")\n",
    "    elif 70 <= Grade < 80:\n",
    "        print(\"\\nYou have achieved B grade !\")\n",
    "    elif 60 <= Grade < 70:\n",
    "        print(\"\\nYou have achieved C grade !\")\n",
    "    else:\n",
    "        print(\"\\nYou have failed the semester !\")"
   ]
  },
  {
   "cell_type": "code",
   "execution_count": 4,
   "metadata": {},
   "outputs": [
    {
     "name": "stdout",
     "output_type": "stream",
     "text": [
      "\n",
      "Enter a number: 23\n",
      "It is an odd number!\n"
     ]
    }
   ],
   "source": [
    "num = int(input(\"\\nEnter a number: \"))\n",
    "if num % 2 == 0:\n",
    "    print(\"It is an even number! \")\n",
    "elif num % 2 == 1:\n",
    "    print(\"It is an odd number!\")"
   ]
  },
  {
   "cell_type": "code",
   "execution_count": 5,
   "metadata": {},
   "outputs": [
    {
     "name": "stdout",
     "output_type": "stream",
     "text": [
      "\n",
      "The length of the list 1 is:  5\n"
     ]
    }
   ],
   "source": [
    "list1 = ['maths', 'english', 'physics', 'chemistry', 'biology']\n",
    "\n",
    "print(\"\\nThe length of the list 1 is: \", len(list1))"
   ]
  },
  {
   "cell_type": "code",
   "execution_count": 6,
   "metadata": {},
   "outputs": [
    {
     "name": "stdout",
     "output_type": "stream",
     "text": [
      "\n",
      "The sum of all numbers in list 2 is:  969\n"
     ]
    }
   ],
   "source": [
    "list2 = ['basketball', '6', 'football', '899', 'Cricket', '45', '19']\n",
    "total = 0\n",
    "for i in range(0, len(list2)):\n",
    "    if list2[i].isdigit():\n",
    "        total += int(list2[i])\n",
    "\n",
    "print(\"\\nThe sum of all numbers in list 2 is: \", total)"
   ]
  },
  {
   "cell_type": "code",
   "execution_count": 7,
   "metadata": {},
   "outputs": [
    {
     "name": "stdout",
     "output_type": "stream",
     "text": [
      "\n",
      "The largest number is:  60 \n",
      "\n"
     ]
    }
   ],
   "source": [
    "list3 = [45, 54, 23, 51, 47, 60]\n",
    "max_num = list3[0]\n",
    "for i in range(1, len(list3)):\n",
    "    if list3[i] > list3[i-1]:\n",
    "        max_num = list3[i]\n",
    "print(\"\\nThe largest number is: \", max_num, '\\n')"
   ]
  },
  {
   "cell_type": "code",
   "execution_count": 8,
   "metadata": {},
   "outputs": [
    {
     "name": "stdout",
     "output_type": "stream",
     "text": [
      "1 1 2 3 "
     ]
    }
   ],
   "source": [
    "list4 = [1, 1, 2, 3, 5, 8, 13, 21, 34, 55, 89]\n",
    "\n",
    "for i in range(0, len(list4)):\n",
    "    if list4[i] < 5:\n",
    "        print(list4[i], end=' ')"
   ]
  },
  {
   "cell_type": "code",
   "execution_count": null,
   "metadata": {},
   "outputs": [],
   "source": []
  }
 ],
 "metadata": {
  "kernelspec": {
   "display_name": "Python 3",
   "language": "python",
   "name": "python3"
  },
  "language_info": {
   "codemirror_mode": {
    "name": "ipython",
    "version": 3
   },
   "file_extension": ".py",
   "mimetype": "text/x-python",
   "name": "python",
   "nbconvert_exporter": "python",
   "pygments_lexer": "ipython3",
   "version": "3.7.4"
  }
 },
 "nbformat": 4,
 "nbformat_minor": 2
}
